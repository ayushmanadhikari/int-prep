{
 "cells": [
  {
   "cell_type": "code",
   "execution_count": 13,
   "id": "4daf84f0-b238-4e12-97e4-999140061b3d",
   "metadata": {},
   "outputs": [],
   "source": [
    "#queue"
   ]
  },
  {
   "cell_type": "code",
   "execution_count": 14,
   "id": "aa7c6583-c86f-4a43-97ac-c68131c64dc2",
   "metadata": {},
   "outputs": [],
   "source": [
    "class Q:\n",
    "    def __init__(self, size):\n",
    "        self.que=[None]*size\n",
    "        self.front = 0\n",
    "        self.rear = -1\n",
    "        self.size=size\n",
    "        self.length = 0\n",
    "    \n",
    "    def isFull(self):\n",
    "        if self.length==self.size:\n",
    "            return True\n",
    "    \n",
    "    def isEmpty(self):\n",
    "        if self.length==0:\n",
    "            return True\n",
    "    \n",
    "    def enque(self, data):\n",
    "        if self.isFull():\n",
    "            return \"Cannot enque\"\n",
    "        else:\n",
    "            self.rear=(self.rear+1)%self.size\n",
    "            self.que[self.rear] = data\n",
    "            self.length=self.length+1\n",
    "    \n",
    "    def deque(self):\n",
    "        if self.isEmpty():\n",
    "            return \"Cannot deque\"\n",
    "        else:\n",
    "            item=self.que[self.front]\n",
    "            self.que[self.front]=None\n",
    "            self.front=(self.front+1)%self.size\n",
    "            self.length=self.length-1\n",
    "            return item"
   ]
  },
  {
   "cell_type": "code",
   "execution_count": null,
   "id": "792bd0c2-176b-4c1c-9f48-3c3fd1d9c373",
   "metadata": {},
   "outputs": [],
   "source": []
  }
 ],
 "metadata": {
  "kernelspec": {
   "display_name": "Python 3 (ipykernel)",
   "language": "python",
   "name": "python3"
  },
  "language_info": {
   "codemirror_mode": {
    "name": "ipython",
    "version": 3
   },
   "file_extension": ".py",
   "mimetype": "text/x-python",
   "name": "python",
   "nbconvert_exporter": "python",
   "pygments_lexer": "ipython3",
   "version": "3.9.13"
  }
 },
 "nbformat": 4,
 "nbformat_minor": 5
}
