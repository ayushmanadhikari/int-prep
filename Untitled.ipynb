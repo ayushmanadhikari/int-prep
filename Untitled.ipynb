{
 "cells": [
  {
   "cell_type": "code",
   "execution_count": 15,
   "id": "00a10040",
   "metadata": {},
   "outputs": [],
   "source": [
    "import pandas as pd"
   ]
  },
  {
   "cell_type": "code",
   "execution_count": 9,
   "id": "423dcecf",
   "metadata": {},
   "outputs": [],
   "source": [
    "data = {'a': [1,2,3],\n",
    "        'b': [4,5,6]\n",
    "       }\n",
    "labels = ['x','y','z']"
   ]
  },
  {
   "cell_type": "code",
   "execution_count": 14,
   "id": "5d5937c0",
   "metadata": {},
   "outputs": [],
   "source": [
    "df = pd.DataFrame(data=data, index=labels)"
   ]
  },
  {
   "cell_type": "code",
   "execution_count": 11,
   "id": "eba2b036",
   "metadata": {},
   "outputs": [],
   "source": [
    "data2 = {'a': [1,2,3]}\n",
    "series = pd.Series(data2)"
   ]
  },
  {
   "cell_type": "code",
   "execution_count": 12,
   "id": "b4c35545",
   "metadata": {},
   "outputs": [
    {
     "data": {
      "text/plain": [
       "a    [1, 2, 3]\n",
       "dtype: object"
      ]
     },
     "execution_count": 12,
     "metadata": {},
     "output_type": "execute_result"
    }
   ],
   "source": [
    "series"
   ]
  },
  {
   "cell_type": "code",
   "execution_count": null,
   "id": "ac4bdc2f",
   "metadata": {},
   "outputs": [],
   "source": []
  },
  {
   "cell_type": "code",
   "execution_count": 18,
   "id": "d8a9264b",
   "metadata": {},
   "outputs": [],
   "source": [
    "s = \"count the vowel in this string\""
   ]
  },
  {
   "cell_type": "code",
   "execution_count": 20,
   "id": "8e533174",
   "metadata": {},
   "outputs": [],
   "source": [
    "for st in s:\n",
    "    if st in ['a', 'e', 'i']:\n",
    "        count = count + 1\n"
   ]
  },
  {
   "cell_type": "code",
   "execution_count": null,
   "id": "300cf4b8",
   "metadata": {},
   "outputs": [],
   "source": []
  }
 ],
 "metadata": {
  "kernelspec": {
   "display_name": "Python 3 (ipykernel)",
   "language": "python",
   "name": "python3"
  },
  "language_info": {
   "codemirror_mode": {
    "name": "ipython",
    "version": 3
   },
   "file_extension": ".py",
   "mimetype": "text/x-python",
   "name": "python",
   "nbconvert_exporter": "python",
   "pygments_lexer": "ipython3",
   "version": "3.9.13"
  }
 },
 "nbformat": 4,
 "nbformat_minor": 5
}
