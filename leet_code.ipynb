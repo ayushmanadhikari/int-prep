{
 "cells": [
  {
   "cell_type": "code",
   "execution_count": 100,
   "id": "23d66301-36d0-4af0-a647-ad821755565f",
   "metadata": {},
   "outputs": [],
   "source": [
    "# frequency of items in a list"
   ]
  },
  {
   "cell_type": "code",
   "execution_count": 2,
   "id": "792bd0c2-176b-4c1c-9f48-3c3fd1d9c373",
   "metadata": {},
   "outputs": [],
   "source": [
    "l1 = ['a', 'b', 'a', 'c', 'd', 'a', 'b']\n",
    "d = {}\n"
   ]
  },
  {
   "cell_type": "code",
   "execution_count": 3,
   "id": "a531bbcf-35eb-4a8b-8fb9-b5e2c9031eac",
   "metadata": {},
   "outputs": [
    {
     "data": {
      "text/plain": [
       "{'a': 3, 'b': 2, 'c': 1, 'd': 1}"
      ]
     },
     "execution_count": 3,
     "metadata": {},
     "output_type": "execute_result"
    }
   ],
   "source": [
    "for i in l1:\n",
    "    if i in d.keys():\n",
    "        d[i] = d[i] + 1\n",
    "    else:\n",
    "        d[i] = 1\n",
    "d"
   ]
  },
  {
   "cell_type": "code",
   "execution_count": 11,
   "id": "7be25137",
   "metadata": {},
   "outputs": [],
   "source": [
    "##reversing a digit\n",
    "x = 121\n",
    "\n",
    "def checkPalin(x):\n",
    "    z=x\n",
    "    y = 0 \n",
    "    while x>0:\n",
    "        rem = x%10\n",
    "        y = y*10 + rem\n",
    "        x = int(x/10)\n",
    "    if y==z:\n",
    "        return True\n",
    "    else:\n",
    "        return False"
   ]
  },
  {
   "cell_type": "code",
   "execution_count": 12,
   "id": "e91c2790",
   "metadata": {},
   "outputs": [
    {
     "data": {
      "text/plain": [
       "True"
      ]
     },
     "execution_count": 12,
     "metadata": {},
     "output_type": "execute_result"
    }
   ],
   "source": [
    "checkPalin(x)"
   ]
  },
  {
   "cell_type": "code",
   "execution_count": 102,
   "id": "2cc42bc9-b0ea-4e1f-a847-ae77a39605c5",
   "metadata": {},
   "outputs": [],
   "source": [
    "# sum of 2 items in a list such that the sum of elements in their position\n",
    "# in the list give target value"
   ]
  },
  {
   "cell_type": "code",
   "execution_count": 103,
   "id": "a3152805",
   "metadata": {},
   "outputs": [],
   "source": [
    "def two_sum(nums, target):\n",
    "    for i in range(0, len(nums)):\n",
    "        for j in range(i, len(nums)):\n",
    "            if nums[i]+nums[j] == target:\n",
    "                return [i,j]"
   ]
  },
  {
   "cell_type": "code",
   "execution_count": 104,
   "id": "5f8815d8",
   "metadata": {},
   "outputs": [
    {
     "data": {
      "text/plain": [
       "[0, 4]"
      ]
     },
     "execution_count": 104,
     "metadata": {},
     "output_type": "execute_result"
    }
   ],
   "source": [
    "arr=[2,7,11,15,21]\n",
    "target = 23\n",
    "two_sum(arr,target)"
   ]
  },
  {
   "cell_type": "code",
   "execution_count": 7,
   "id": "1ef30544",
   "metadata": {},
   "outputs": [],
   "source": [
    "arr = 'bhagwan'\n",
    "d = {}"
   ]
  },
  {
   "cell_type": "code",
   "execution_count": 8,
   "id": "8cda6856-7f11-49c4-bb63-ab558dc21abd",
   "metadata": {},
   "outputs": [],
   "source": [
    "for i in arr:\n",
    "    if i in d.keys():\n",
    "        d[i] = d[i] + 1\n",
    "    else:\n",
    "        d[i] = 1\n",
    "        "
   ]
  },
  {
   "cell_type": "code",
   "execution_count": 9,
   "id": "d4559598-3e86-4fe2-931d-5c5ef3af864b",
   "metadata": {},
   "outputs": [
    {
     "data": {
      "text/plain": [
       "{'b': 1, 'h': 1, 'a': 2, 'g': 1, 'w': 1, 'n': 1}"
      ]
     },
     "execution_count": 9,
     "metadata": {},
     "output_type": "execute_result"
    }
   ],
   "source": [
    "d"
   ]
  },
  {
   "cell_type": "code",
   "execution_count": 13,
   "id": "2589c4df-32bf-4214-b4f0-538bc9eeb69a",
   "metadata": {},
   "outputs": [],
   "source": [
    "strs = ['ayushman','ayushi']"
   ]
  },
  {
   "cell_type": "code",
   "execution_count": 36,
   "id": "c4cd6e1b",
   "metadata": {},
   "outputs": [
    {
     "name": "stdout",
     "output_type": "stream",
     "text": [
      "['a', 'ay', 'ayu', 'ayus', 'ayush', 'ayushm', 'ayushma', 'ayushman']\n",
      "no prefix\n",
      "a\n",
      "no prefix\n",
      "no prefix\n",
      "no prefix\n",
      "no prefix\n",
      "no prefix\n",
      "no prefix\n",
      "ay\n",
      "no prefix\n",
      "no prefix\n",
      "no prefix\n",
      "no prefix\n",
      "no prefix\n",
      "no prefix\n",
      "ayu\n",
      "no prefix\n",
      "no prefix\n",
      "no prefix\n",
      "no prefix\n",
      "no prefix\n",
      "no prefix\n",
      "ayus\n",
      "no prefix\n",
      "no prefix\n",
      "no prefix\n",
      "no prefix\n",
      "no prefix\n",
      "no prefix\n",
      "ayush\n",
      "no prefix\n",
      "no prefix\n",
      "no prefix\n",
      "no prefix\n",
      "no prefix\n",
      "no prefix\n",
      "no prefix\n",
      "no prefix\n",
      "no prefix\n",
      "no prefix\n",
      "no prefix\n",
      "no prefix\n",
      "no prefix\n",
      "no prefix\n",
      "no prefix\n",
      "no prefix\n",
      "no prefix\n",
      "no prefix\n"
     ]
    }
   ],
   "source": [
    "##all substrings from a string\n",
    "string1 = \"ayushman\"\n",
    "string2 = \"ayushi\"\n",
    "sub = []\n",
    "for i in range(len(string1)):\n",
    "    sub.append(string1[:i+1])\n",
    "print(sub)\n",
    "\n",
    "for i in range(len(string1)):\n",
    "    for j in range(len(string2)):\n",
    "        if sub[i] == string2[:j]:\n",
    "            print(sub[i])\n",
    "        else:\n",
    "            print(\"no prefix\")\n",
    "    "
   ]
  },
  {
   "cell_type": "code",
   "execution_count": 15,
   "id": "f6f669f1-665c-4d7a-a5bb-01eab4cf7c88",
   "metadata": {},
   "outputs": [
    {
     "name": "stdout",
     "output_type": "stream",
     "text": [
      "['a', 'ay', 'ayu', 'ayus', 'ayush', 'ayushm', 'ayushma', 'ayushman', 'y', 'yu', 'yus', 'yush', 'yushm', 'yushma', 'yushman', 'u', 'us', 'ush', 'ushm', 'ushma', 'ushman', 's', 'sh', 'shm', 'shma', 'shman', 'h', 'hm', 'hma', 'hman', 'm', 'ma', 'man', 'a', 'an', 'n']\n"
     ]
    }
   ],
   "source": [
    "#finds every possible sub string from strings array first element\n",
    "elem = strs[0]\n",
    "sub = []\n",
    "for i in range(0,len(elem)):\n",
    "    for j in range(i+1, len(elem)+1):\n",
    "         sub.append(elem[i:j])\n",
    "print(sub)"
   ]
  },
  {
   "cell_type": "code",
   "execution_count": 91,
   "id": "3039a33d-43ad-474b-bd83-883070585ec4",
   "metadata": {},
   "outputs": [],
   "source": [
    "#finds common sub strings between 2 strings\n",
    "common_subs = []\n",
    "for i in range(0, len(sub)):\n",
    "    if sub[i] in strs[1]:\n",
    "        common_subs.append(sub[i])"
   ]
  },
  {
   "cell_type": "code",
   "execution_count": 75,
   "id": "2d5b5552-b237-4978-a723-94f93b468286",
   "metadata": {},
   "outputs": [],
   "source": [
    "# finds the longest common sub string between 2 strings\n",
    "maxi = common_subs[0]\n",
    "for i in range(len(common_subs)):\n",
    "    if len(maxi)<len(common_subs[i]):\n",
    "        maxi=common_subs[i]"
   ]
  },
  {
   "cell_type": "code",
   "execution_count": 76,
   "id": "8dfc6e35-001e-4595-b26a-de6f014b4d02",
   "metadata": {},
   "outputs": [
    {
     "data": {
      "text/plain": [
       "'ayush'"
      ]
     },
     "execution_count": 76,
     "metadata": {},
     "output_type": "execute_result"
    }
   ],
   "source": [
    "maxi"
   ]
  },
  {
   "cell_type": "code",
   "execution_count": 37,
   "id": "50629f26-a38b-4b24-8d71-74ddbd1eab69",
   "metadata": {},
   "outputs": [],
   "source": [
    "#longest common substring\n",
    "# incomplete\n",
    "\n",
    "class LongestCommonSubString:\n",
    "    def __init__(self, arr):\n",
    "        self.stringArray = arr\n",
    "        self.subs = []\n",
    "        self.commonSubs = []\n",
    "        self.firstElem = arr[0]\n",
    "        \n",
    "    \n",
    "    def longestCommonSub(self):\n",
    "        #gets every possible substrings from the first element in the strings array \n",
    "        for i in range(0, len(self.firstElem)):\n",
    "            for j in range(i+1, len(self.firstElem)+1):\n",
    "                self.subs.append(self.firstElem[i:j])\n",
    "        \n",
    "        #gets the list of common subs from all the elements in the strings array\n",
    "        for i in range(0, len(self.subs)):\n",
    "            if all(self.subs[i] for subs in self.stringArray):\n",
    "                self.commonSubs.append(self.subs[i])\n",
    "        \n",
    "        print(self.commonSubs)\n",
    "            \n",
    "                \n",
    "        \n",
    "        "
   ]
  },
  {
   "cell_type": "code",
   "execution_count": 105,
   "id": "cd9c6f51-349d-4fec-8331-72c52077eae6",
   "metadata": {},
   "outputs": [],
   "source": [
    "## Roman to integer"
   ]
  },
  {
   "cell_type": "code",
   "execution_count": 38,
   "id": "aec149f4-d2cd-4c5f-9834-2c90cbed4804",
   "metadata": {},
   "outputs": [],
   "source": [
    "class Solution:\n",
    "    def romanToInt(self, s:str) -> int:\n",
    "        self.string_list = []\n",
    "        self.int_list = []\n",
    "        \n",
    "        #list of roman symbols in order\n",
    "        for i in s:\n",
    "            self.string_list.append(i.upper())\n",
    "        \n",
    "        #converting roman symbols to integer\n",
    "        for i in self.string_list:\n",
    "            if i == 'I':\n",
    "                self.int_list.append(1)\n",
    "            elif i == 'V':\n",
    "                self.int_list.append(5)\n",
    "            elif i == 'X':\n",
    "                self.int_list.append(10)\n",
    "            elif i =='L':\n",
    "                self.int_list.append(50)\n",
    "            elif i == 'C':\n",
    "                self.int_list.append(100)\n",
    "            elif i == 'D':\n",
    "                self.int_list.append(500)\n",
    "            elif i == 'M':\n",
    "                self.int_list.append(1000)\n",
    "            else:\n",
    "                print(\"print invalid symbol\")\n",
    "                    \n",
    "        #calculating the value by checking if it needs to be added or substracted\n",
    "        output = 0\n",
    "        for i in range(0, len(self.int_list)):\n",
    "            if self.int_list[i] == 1 and (i+1)<len(self.int_list):\n",
    "                if self.int_list[i+1] == 5 or self.int_list[i+1] == 10:\n",
    "                    output = output - 1\n",
    "                else:\n",
    "                    output = output + 1\n",
    "            \n",
    "            elif self.int_list[i] == 10 and (i+1)<len(self.int_list):\n",
    "                if self.int_list[i+1] == 50 or self.int_list[i+1] == 100:\n",
    "                    output = output - 10\n",
    "                else:\n",
    "                    output = output + 10\n",
    "            \n",
    "            elif self.int_list[i] == 100 and (i+1)<len(self.int_list):\n",
    "                    if self.int_list[i+1] == 500 or self.int_list[i+1] == 1000:\n",
    "                        output = output - 100\n",
    "                    else:\n",
    "                        output = output + 100\n",
    "            else: \n",
    "                output = output + self.int_list[i]\n",
    "        \n",
    "        print(output)\n",
    "                \n",
    "                \n",
    "                \n",
    "                \n",
    "                "
   ]
  },
  {
   "cell_type": "code",
   "execution_count": 39,
   "id": "fec8f82b-443f-4e59-91f2-272fd6176558",
   "metadata": {},
   "outputs": [
    {
     "name": "stdout",
     "output_type": "stream",
     "text": [
      "762\n"
     ]
    }
   ],
   "source": [
    "string1 = 'DCCLXII'\n",
    "s1 = Solution()\n",
    "s1.romanToInt(string1)"
   ]
  },
  {
   "cell_type": "code",
   "execution_count": 140,
   "id": "c966fbbd-c1e5-4216-b3d5-a9e320f0fd58",
   "metadata": {},
   "outputs": [],
   "source": [
    "list1 = [2,7,11,15]\n",
    "target = 9"
   ]
  },
  {
   "cell_type": "code",
   "execution_count": 144,
   "id": "9e6dd8f7-0e8c-4747-b41e-6115734339e7",
   "metadata": {},
   "outputs": [
    {
     "name": "stdout",
     "output_type": "stream",
     "text": [
      "0 1\n"
     ]
    }
   ],
   "source": [
    "for i in range(0, len(list1)):\n",
    "    for j in range(i, len(list1)):\n",
    "        if list1[i]+list1[j] == target:\n",
    "            print(i,j)"
   ]
  },
  {
   "cell_type": "code",
   "execution_count": 1,
   "id": "eccece9a-e618-4f75-87d4-82d2911c9435",
   "metadata": {},
   "outputs": [],
   "source": [
    "### valid parenthesis\n"
   ]
  },
  {
   "cell_type": "code",
   "execution_count": 16,
   "id": "2c4efff2",
   "metadata": {},
   "outputs": [],
   "source": [
    "  class Stack:\n",
    "    def __init__(self):\n",
    "        self.stack = [None] * 100\n",
    "        self.top = -1 \n",
    "        self.currentSize = 0\n",
    "    def isEmpty(self):\n",
    "        if self.currentSize == 0:\n",
    "            return True\n",
    "    def isNotEmpty(self):\n",
    "        if self.currentSize != 0:\n",
    "            return True\n",
    "    def push(self, item):\n",
    "        self.top = self.top + 1\n",
    "        self.stack[self.top] = item\n",
    "        self.currentSize = self.currentSize + 1\n",
    "    def pop(self):\n",
    "        item = self.stack[self.top]\n",
    "        self.top = self.top - 1\n",
    "        self.currentSize = self.currentSize - 1\n",
    "        return item\n",
    "    \n",
    "    def peek(self):\n",
    "        return self.stack[self.top]\n",
    "\n",
    "    \n",
    "class Solution:\n",
    "    def isValid(self, s: str) -> bool:\n",
    "        s1 = Stack()\n",
    "        for i in s:\n",
    "            if i == '(' or i=='[' or i== '{':\n",
    "                s1.push(i)\n",
    "            \n",
    "            elif s1.isNotEmpty():\n",
    "                if (i == ']' and s1.peek() == '['):\n",
    "                    s1.pop()\n",
    "                elif (i == '}' and s1.peek() == '{'):\n",
    "                    s1.pop()\n",
    "                elif (i == ')' and s1.peek() == '('):\n",
    "                    s1.pop()\n",
    "                else:\n",
    "                    return False\n",
    "            else:\n",
    "                return False\n",
    "            \n",
    "        if s1.isNotEmpty():\n",
    "            return False\n",
    "        \n",
    "        return True\n",
    "                "
   ]
  },
  {
   "cell_type": "code",
   "execution_count": 17,
   "id": "cdee2357",
   "metadata": {},
   "outputs": [],
   "source": [
    "paren = \"()\""
   ]
  },
  {
   "cell_type": "code",
   "execution_count": 18,
   "id": "bc8bb76d",
   "metadata": {},
   "outputs": [
    {
     "data": {
      "text/plain": [
       "True"
      ]
     },
     "execution_count": 18,
     "metadata": {},
     "output_type": "execute_result"
    }
   ],
   "source": [
    "s2 = Solution()\n",
    "s2.isValid(paren)"
   ]
  },
  {
   "cell_type": "code",
   "execution_count": null,
   "id": "5c6ac3f7",
   "metadata": {},
   "outputs": [],
   "source": []
  },
  {
   "cell_type": "code",
   "execution_count": 20,
   "id": "e3672500",
   "metadata": {},
   "outputs": [],
   "source": [
    "### merge 2 sorted linked list"
   ]
  },
  {
   "cell_type": "code",
   "execution_count": 26,
   "id": "9a4a9f5b",
   "metadata": {},
   "outputs": [],
   "source": [
    "# Definition for singly-linked list.\n",
    "class Node:\n",
    "    def __init__(self, val=None, nxt=None):\n",
    "        self.val = val\n",
    "        self.next = nxt\n",
    "        \n",
    "class LinkedList:\n",
    "    def __init__(self):\n",
    "        self.head = None\n",
    "        \n",
    "    def insertEnd(self, val):\n",
    "        if self.head is None:\n",
    "            self.head = Node(val, None)\n",
    "            return \n",
    "        itr = self.head\n",
    "        while itr.next:\n",
    "            itr = itr.next\n",
    "        itr.next = Node(val)\n",
    "    \n",
    "    def printList(self):\n",
    "        itr = self.head\n",
    "        while itr:\n",
    "            print(itr.val)\n",
    "            itr = itr.next\n",
    "        \n",
    "        \n",
    "\n",
    "class Solution:\n",
    "    def mergeTwoLists(self, list1: LinkedList, list2: LinkedList) -> LinkedList:\n",
    "        list3 = LinkedList()\n",
    "        itr1 = list1.head\n",
    "        itr2 = list2.head\n",
    "        \n",
    "        while itr1.next and itr2.next:\n",
    "            if itr1.val<itr2.val:\n",
    "                list3.insertEnd(itr1.val)\n",
    "                itr1 = itr1.next\n",
    "                print(itr1.val)\n",
    "            else:\n",
    "                list3.insertEnd(itr2.val)\n",
    "                itr2=itr2.next\n",
    "                print(itr2.val)\n",
    "        \n",
    "        while itr1.next:\n",
    "            print(itr1.val)\n",
    "            list3.insertEnd(itr1.val)\n",
    "            itr1 = itr1.next\n",
    "        \n",
    "        while itr2.next:\n",
    "            print(itr2.val)\n",
    "            list3.insertEnd(itr2.val)\n",
    "            itr2 = itr2.next\n",
    "        \n",
    "        return list3\n",
    "        \n",
    "        "
   ]
  },
  {
   "cell_type": "code",
   "execution_count": 27,
   "id": "d8910b46",
   "metadata": {},
   "outputs": [
    {
     "name": "stdout",
     "output_type": "stream",
     "text": [
      "1\n",
      "2\n",
      "3\n"
     ]
    }
   ],
   "source": [
    "l1 = LinkedList()\n",
    "l1.insertEnd(1)\n",
    "l1.insertEnd(2)\n",
    "l1.insertEnd(3)\n",
    "l1.printList()"
   ]
  },
  {
   "cell_type": "code",
   "execution_count": 28,
   "id": "0c58eb10",
   "metadata": {},
   "outputs": [],
   "source": [
    "l2 = LinkedList()\n",
    "l2.insertEnd(1)\n",
    "l2.insertEnd(3)\n",
    "l2.insertEnd(4)\n"
   ]
  },
  {
   "cell_type": "code",
   "execution_count": 29,
   "id": "acd80002",
   "metadata": {},
   "outputs": [
    {
     "name": "stdout",
     "output_type": "stream",
     "text": [
      "1\n",
      "3\n",
      "4\n"
     ]
    }
   ],
   "source": [
    "l2.printList()"
   ]
  },
  {
   "cell_type": "code",
   "execution_count": 30,
   "id": "bfbd41be",
   "metadata": {},
   "outputs": [
    {
     "name": "stdout",
     "output_type": "stream",
     "text": [
      "3\n",
      "2\n",
      "3\n",
      "4\n"
     ]
    },
    {
     "ename": "AttributeError",
     "evalue": "'NoneType' object has no attribute 'val'",
     "output_type": "error",
     "traceback": [
      "\u001b[0;31m---------------------------------------------------------------------------\u001b[0m",
      "\u001b[0;31mAttributeError\u001b[0m                            Traceback (most recent call last)",
      "Input \u001b[0;32mIn [30]\u001b[0m, in \u001b[0;36m<module>\u001b[0;34m\u001b[0m\n\u001b[1;32m      1\u001b[0m s1 \u001b[38;5;241m=\u001b[39m Solution()\n\u001b[0;32m----> 2\u001b[0m s2 \u001b[38;5;241m=\u001b[39m \u001b[43ms1\u001b[49m\u001b[38;5;241;43m.\u001b[39;49m\u001b[43mmergeTwoLists\u001b[49m\u001b[43m(\u001b[49m\u001b[43ml1\u001b[49m\u001b[43m,\u001b[49m\u001b[43m \u001b[49m\u001b[43ml2\u001b[49m\u001b[43m)\u001b[49m\n",
      "Input \u001b[0;32mIn [26]\u001b[0m, in \u001b[0;36mSolution.mergeTwoLists\u001b[0;34m(self, list1, list2)\u001b[0m\n\u001b[1;32m     36\u001b[0m     list3\u001b[38;5;241m.\u001b[39minsertEnd(itr1\u001b[38;5;241m.\u001b[39mval)\n\u001b[1;32m     37\u001b[0m     itr1 \u001b[38;5;241m=\u001b[39m itr1\u001b[38;5;241m.\u001b[39mnext\n\u001b[0;32m---> 38\u001b[0m     \u001b[38;5;28mprint\u001b[39m(\u001b[43mitr1\u001b[49m\u001b[38;5;241;43m.\u001b[39;49m\u001b[43mval\u001b[49m)\n\u001b[1;32m     39\u001b[0m \u001b[38;5;28;01melse\u001b[39;00m:\n\u001b[1;32m     40\u001b[0m     list3\u001b[38;5;241m.\u001b[39minsertEnd(itr2\u001b[38;5;241m.\u001b[39mval)\n",
      "\u001b[0;31mAttributeError\u001b[0m: 'NoneType' object has no attribute 'val'"
     ]
    }
   ],
   "source": [
    "s1 = Solution()\n",
    "s2 = s1.mergeTwoLists(l1, l2)"
   ]
  },
  {
   "cell_type": "code",
   "execution_count": 17,
   "id": "9ddba5a0",
   "metadata": {},
   "outputs": [
    {
     "name": "stdout",
     "output_type": "stream",
     "text": [
      "1\n",
      "1\n",
      "2\n",
      "3\n"
     ]
    }
   ],
   "source": [
    "s2.printList()"
   ]
  },
  {
   "cell_type": "code",
   "execution_count": null,
   "id": "bba8bd3b",
   "metadata": {},
   "outputs": [],
   "source": []
  }
 ],
 "metadata": {
  "kernelspec": {
   "display_name": "Python 3 (ipykernel)",
   "language": "python",
   "name": "python3"
  },
  "language_info": {
   "codemirror_mode": {
    "name": "ipython",
    "version": 3
   },
   "file_extension": ".py",
   "mimetype": "text/x-python",
   "name": "python",
   "nbconvert_exporter": "python",
   "pygments_lexer": "ipython3",
   "version": "3.9.16"
  }
 },
 "nbformat": 4,
 "nbformat_minor": 5
}
